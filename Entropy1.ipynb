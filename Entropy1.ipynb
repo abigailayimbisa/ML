{
  "nbformat": 4,
  "nbformat_minor": 0,
  "metadata": {
    "colab": {
      "provenance": [],
      "authorship_tag": "ABX9TyMKu92c/f5c2/8ViRPa3+7q",
      "include_colab_link": true
    },
    "kernelspec": {
      "name": "python3",
      "display_name": "Python 3"
    },
    "language_info": {
      "name": "python"
    }
  },
  "cells": [
    {
      "cell_type": "markdown",
      "metadata": {
        "id": "view-in-github",
        "colab_type": "text"
      },
      "source": [
        "<a href=\"https://colab.research.google.com/github/abigailayimbisa/ML/blob/main/Entropy1.ipynb\" target=\"_parent\"><img src=\"https://colab.research.google.com/assets/colab-badge.svg\" alt=\"Open In Colab\"/></a>"
      ]
    },
    {
      "cell_type": "code",
      "execution_count": 13,
      "metadata": {
        "id": "iCshnuBrRP2h"
      },
      "outputs": [],
      "source": [
        "import numpy as np"
      ]
    },
    {
      "cell_type": "code",
      "source": [
        "(-10/10 * np.log2(10/10))"
      ],
      "metadata": {
        "colab": {
          "base_uri": "https://localhost:8080/"
        },
        "id": "-LK76D9CR8MV",
        "outputId": "4eef20b5-7f7a-4fa7-8306-d8314383a4b1"
      },
      "execution_count": 14,
      "outputs": [
        {
          "output_type": "execute_result",
          "data": {
            "text/plain": [
              "-0.0"
            ]
          },
          "metadata": {},
          "execution_count": 14
        }
      ]
    },
    {
      "cell_type": "code",
      "source": [
        "(-5/10 * np.log2(5/10)) + (-5/10 * np.log2(5/10))"
      ],
      "metadata": {
        "colab": {
          "base_uri": "https://localhost:8080/"
        },
        "id": "i-ghwa1YR8Ow",
        "outputId": "451a9af5-8dae-4b9e-a47f-5ee14ed5c545"
      },
      "execution_count": 15,
      "outputs": [
        {
          "output_type": "execute_result",
          "data": {
            "text/plain": [
              "1.0"
            ]
          },
          "metadata": {},
          "execution_count": 15
        }
      ]
    },
    {
      "cell_type": "markdown",
      "source": [
        "Entropy for left child"
      ],
      "metadata": {
        "id": "mDO_3UhRSBmL"
      }
    },
    {
      "cell_type": "code",
      "source": [
        "(-2/6 * np.log2(2/6)) + (-4/6 * np.log2(4/6))"
      ],
      "metadata": {
        "colab": {
          "base_uri": "https://localhost:8080/"
        },
        "id": "QnoHntIBR8RV",
        "outputId": "8521ec84-a22b-4d47-8941-c722a22cce64"
      },
      "execution_count": 16,
      "outputs": [
        {
          "output_type": "execute_result",
          "data": {
            "text/plain": [
              "0.9182958340544896"
            ]
          },
          "metadata": {},
          "execution_count": 16
        }
      ]
    },
    {
      "cell_type": "markdown",
      "source": [
        "Entropy for right child"
      ],
      "metadata": {
        "id": "7OdaAFLtSJ0Y"
      }
    },
    {
      "cell_type": "code",
      "source": [
        "(-3/4 * np.log2(3/4)) + (-1/4 * np.log2(1/4))"
      ],
      "metadata": {
        "colab": {
          "base_uri": "https://localhost:8080/"
        },
        "id": "p8IpPV0ZR8Tr",
        "outputId": "c01b95e3-9f10-40da-95a2-fe0b5a40cf33"
      },
      "execution_count": 17,
      "outputs": [
        {
          "output_type": "execute_result",
          "data": {
            "text/plain": [
              "0.8112781244591328"
            ]
          },
          "metadata": {},
          "execution_count": 17
        }
      ]
    },
    {
      "cell_type": "markdown",
      "source": [
        "Getting the weighted entropy"
      ],
      "metadata": {
        "id": "WXayhCZfSPmq"
      }
    },
    {
      "cell_type": "code",
      "source": [
        "(6/10*0.9182958340544896)"
      ],
      "metadata": {
        "colab": {
          "base_uri": "https://localhost:8080/"
        },
        "id": "iB-UMWV1R8WB",
        "outputId": "e62dc4e2-67a2-47bc-9131-87fcef58920f"
      },
      "execution_count": 18,
      "outputs": [
        {
          "output_type": "execute_result",
          "data": {
            "text/plain": [
              "0.5509775004326937"
            ]
          },
          "metadata": {},
          "execution_count": 18
        }
      ]
    },
    {
      "cell_type": "code",
      "source": [
        "4/10*0.8112781244591328"
      ],
      "metadata": {
        "colab": {
          "base_uri": "https://localhost:8080/"
        },
        "id": "FCejzPipR8iy",
        "outputId": "6b48c52e-a102-458a-e71b-02e6e5694714"
      },
      "execution_count": 19,
      "outputs": [
        {
          "output_type": "execute_result",
          "data": {
            "text/plain": [
              "0.32451124978365314"
            ]
          },
          "metadata": {},
          "execution_count": 19
        }
      ]
    },
    {
      "cell_type": "markdown",
      "source": [
        "Sum of weighted entropies"
      ],
      "metadata": {
        "id": "_JKW0DRASZq0"
      }
    },
    {
      "cell_type": "code",
      "source": [
        "0.5509775004326937 +0.32451124978365314"
      ],
      "metadata": {
        "colab": {
          "base_uri": "https://localhost:8080/"
        },
        "id": "ewHCxjfDR8t5",
        "outputId": "0bb167ad-f697-4696-c136-b9bebdfd1774"
      },
      "execution_count": 20,
      "outputs": [
        {
          "output_type": "execute_result",
          "data": {
            "text/plain": [
              "0.8754887502163469"
            ]
          },
          "metadata": {},
          "execution_count": 20
        }
      ]
    },
    {
      "cell_type": "markdown",
      "source": [
        "The gain"
      ],
      "metadata": {
        "id": "TbWBr2YySgAa"
      }
    },
    {
      "cell_type": "code",
      "source": [
        "1-0.8754887502163469"
      ],
      "metadata": {
        "colab": {
          "base_uri": "https://localhost:8080/"
        },
        "id": "qa8h3RwzR8vT",
        "outputId": "780f8436-56d6-4200-e99a-cc810fa74ca7"
      },
      "execution_count": 21,
      "outputs": [
        {
          "output_type": "execute_result",
          "data": {
            "text/plain": [
              "0.12451124978365313"
            ]
          },
          "metadata": {},
          "execution_count": 21
        }
      ]
    },
    {
      "cell_type": "code",
      "source": [
        "(-2/4 * np.log2(2/4)) + (-2/4 * np.log2(2/4))"
      ],
      "metadata": {
        "colab": {
          "base_uri": "https://localhost:8080/"
        },
        "id": "vWo_IPtSSvSy",
        "outputId": "aec1a008-eba0-47b5-f874-76b8f5a1f3a6"
      },
      "execution_count": 22,
      "outputs": [
        {
          "output_type": "execute_result",
          "data": {
            "text/plain": [
              "1.0"
            ]
          },
          "metadata": {},
          "execution_count": 22
        }
      ]
    },
    {
      "cell_type": "markdown",
      "source": [
        "Entropy at the roots =1"
      ],
      "metadata": {
        "id": "RUGqXLceS_7u"
      }
    },
    {
      "cell_type": "code",
      "source": [
        "# left child\n",
        "(-2/3 * np.log2(2/3)) + (-1/3 * np.log2(1/3))"
      ],
      "metadata": {
        "colab": {
          "base_uri": "https://localhost:8080/"
        },
        "id": "awDEhOCZSvVY",
        "outputId": "401ea8a2-7838-4d4b-97f0-d7c717997317"
      },
      "execution_count": 23,
      "outputs": [
        {
          "output_type": "execute_result",
          "data": {
            "text/plain": [
              "0.9182958340544896"
            ]
          },
          "metadata": {},
          "execution_count": 23
        }
      ]
    },
    {
      "cell_type": "code",
      "source": [
        "# right child\n",
        "(-1/1 * np.log2(1/1))"
      ],
      "metadata": {
        "colab": {
          "base_uri": "https://localhost:8080/"
        },
        "id": "i0fgNkPgSvX4",
        "outputId": "e534c7d2-4045-423f-85a9-3b84eca785f2"
      },
      "execution_count": 24,
      "outputs": [
        {
          "output_type": "execute_result",
          "data": {
            "text/plain": [
              "-0.0"
            ]
          },
          "metadata": {},
          "execution_count": 24
        }
      ]
    },
    {
      "cell_type": "code",
      "source": [
        "#weighted entropy  - left child\n",
        "(0.9182958340544896 * 3/4)"
      ],
      "metadata": {
        "colab": {
          "base_uri": "https://localhost:8080/"
        },
        "id": "sNlS6HOvSvaQ",
        "outputId": "076b10d1-3aab-4151-d0f0-aba4120bd04e"
      },
      "execution_count": 25,
      "outputs": [
        {
          "output_type": "execute_result",
          "data": {
            "text/plain": [
              "0.6887218755408672"
            ]
          },
          "metadata": {},
          "execution_count": 25
        }
      ]
    },
    {
      "cell_type": "code",
      "source": [
        "#weighted entropy - right child\n",
        "(0* 1/4)"
      ],
      "metadata": {
        "colab": {
          "base_uri": "https://localhost:8080/"
        },
        "id": "AvIr13NYSvcr",
        "outputId": "f4a53975-7f76-49d8-b90e-a6daa6566365"
      },
      "execution_count": 26,
      "outputs": [
        {
          "output_type": "execute_result",
          "data": {
            "text/plain": [
              "0.0"
            ]
          },
          "metadata": {},
          "execution_count": 26
        }
      ]
    },
    {
      "cell_type": "code",
      "source": [
        "# sum of the weigted entropy =\n",
        "0.6887218755408672 + 0"
      ],
      "metadata": {
        "colab": {
          "base_uri": "https://localhost:8080/"
        },
        "id": "H6IwXLpkTLx2",
        "outputId": "ebcf0aea-f81f-478e-bc89-241124cb7c92"
      },
      "execution_count": 27,
      "outputs": [
        {
          "output_type": "execute_result",
          "data": {
            "text/plain": [
              "0.6887218755408672"
            ]
          },
          "metadata": {},
          "execution_count": 27
        }
      ]
    },
    {
      "cell_type": "code",
      "source": [
        "#information gain\n",
        "#root entropy - sum of th weighted entropy\n",
        "1 - 0.6887218755408672"
      ],
      "metadata": {
        "colab": {
          "base_uri": "https://localhost:8080/"
        },
        "id": "QIN87yxCTLz7",
        "outputId": "22dd277f-37e3-4fa8-fd74-efe44dc8829b"
      },
      "execution_count": 28,
      "outputs": [
        {
          "output_type": "execute_result",
          "data": {
            "text/plain": [
              "0.31127812445913283"
            ]
          },
          "metadata": {},
          "execution_count": 28
        }
      ]
    },
    {
      "cell_type": "code",
      "source": [
        "#So the information gain of using x as the split = 0.31127812445913283\n",
        "# Next we calculate for Y\n",
        "# Root = 1.0\n",
        "#entropy at the left:\n",
        "(-2/2 * np.log2(2/2))"
      ],
      "metadata": {
        "colab": {
          "base_uri": "https://localhost:8080/"
        },
        "id": "HGhzkNgRTL2a",
        "outputId": "1a4d4f9d-0d80-4ebf-89f8-061f1d85ac05"
      },
      "execution_count": 29,
      "outputs": [
        {
          "output_type": "execute_result",
          "data": {
            "text/plain": [
              "-0.0"
            ]
          },
          "metadata": {},
          "execution_count": 29
        }
      ]
    },
    {
      "cell_type": "code",
      "source": [
        "#sum of the weight entropy\n",
        "(0* 2/4) + (0*2/4)"
      ],
      "metadata": {
        "colab": {
          "base_uri": "https://localhost:8080/"
        },
        "id": "Z7_lFiQfTL5O",
        "outputId": "5b951adc-abc4-4f45-919b-2531ccf07b58"
      },
      "execution_count": 30,
      "outputs": [
        {
          "output_type": "execute_result",
          "data": {
            "text/plain": [
              "0.0"
            ]
          },
          "metadata": {},
          "execution_count": 30
        }
      ]
    },
    {
      "cell_type": "code",
      "source": [
        "#information gain = 1 - 0\n",
        "# the the information gain is= 1"
      ],
      "metadata": {
        "id": "WQatN8ZqTaqW"
      },
      "execution_count": 31,
      "outputs": []
    },
    {
      "cell_type": "code",
      "source": [
        "# now using Z\n",
        "# at the root = 1\n",
        "# left child\n",
        "(-1/2 * np.log2(1/2)) + (-1/2 * np.log2(1/2))"
      ],
      "metadata": {
        "colab": {
          "base_uri": "https://localhost:8080/"
        },
        "id": "XY9xaYYKSvff",
        "outputId": "25ba956b-4a00-4e81-ec29-28641699d166"
      },
      "execution_count": 32,
      "outputs": [
        {
          "output_type": "execute_result",
          "data": {
            "text/plain": [
              "1.0"
            ]
          },
          "metadata": {},
          "execution_count": 32
        }
      ]
    },
    {
      "cell_type": "code",
      "source": [
        "# right child\n",
        "(-1/2 * np.log2(1/2)) + (-1/2 * np.log2(1/2))"
      ],
      "metadata": {
        "colab": {
          "base_uri": "https://localhost:8080/"
        },
        "id": "tL44hZrfTbSb",
        "outputId": "d18da497-f245-4ffe-b556-a088bd6bba04"
      },
      "execution_count": 33,
      "outputs": [
        {
          "output_type": "execute_result",
          "data": {
            "text/plain": [
              "1.0"
            ]
          },
          "metadata": {},
          "execution_count": 33
        }
      ]
    },
    {
      "cell_type": "code",
      "source": [
        "#average and sum\n",
        "(2/4* 1) + (2/4*1)"
      ],
      "metadata": {
        "colab": {
          "base_uri": "https://localhost:8080/"
        },
        "id": "LISxTTMWTbVA",
        "outputId": "4ae7a64e-28c7-4feb-d206-6dc17ee4f569"
      },
      "execution_count": 34,
      "outputs": [
        {
          "output_type": "execute_result",
          "data": {
            "text/plain": [
              "1.0"
            ]
          },
          "metadata": {},
          "execution_count": 34
        }
      ]
    },
    {
      "cell_type": "code",
      "source": [
        "#information gain\n",
        "1 - 1"
      ],
      "metadata": {
        "colab": {
          "base_uri": "https://localhost:8080/"
        },
        "id": "42AGju2CTklQ",
        "outputId": "1bedf200-0e7a-449b-8103-cc14585b2912"
      },
      "execution_count": 35,
      "outputs": [
        {
          "output_type": "execute_result",
          "data": {
            "text/plain": [
              "0"
            ]
          },
          "metadata": {},
          "execution_count": 35
        }
      ]
    }
  ]
}